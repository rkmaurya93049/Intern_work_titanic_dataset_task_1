{
 "cells": [
  {
   "cell_type": "code",
   "execution_count": 1,
   "id": "b94f3391",
   "metadata": {
    "execution": {
     "iopub.execute_input": "2025-04-24T13:07:58.584450Z",
     "iopub.status.busy": "2025-04-24T13:07:58.584124Z",
     "iopub.status.idle": "2025-04-24T13:08:03.329376Z",
     "shell.execute_reply": "2025-04-24T13:08:03.328355Z"
    },
    "papermill": {
     "duration": 4.75592,
     "end_time": "2025-04-24T13:08:03.331305",
     "exception": false,
     "start_time": "2025-04-24T13:07:58.575385",
     "status": "completed"
    },
    "tags": []
   },
   "outputs": [],
   "source": [
    "import pandas as pd\n",
    "import numpy as np\n",
    "import matplotlib.pyplot as plt\n",
    "import seaborn as sns\n",
    "from sklearn.impute import SimpleImputer"
   ]
  },
  {
   "cell_type": "markdown",
   "id": "80ad051e",
   "metadata": {
    "papermill": {
     "duration": 0.006193,
     "end_time": "2025-04-24T13:08:03.344544",
     "exception": false,
     "start_time": "2025-04-24T13:08:03.338351",
     "status": "completed"
    },
    "tags": []
   },
   "source": [
    "# Importing the dataset:"
   ]
  },
  {
   "cell_type": "code",
   "execution_count": 2,
   "id": "2bb6d37a",
   "metadata": {
    "execution": {
     "iopub.execute_input": "2025-04-24T13:08:03.359006Z",
     "iopub.status.busy": "2025-04-24T13:08:03.358266Z",
     "iopub.status.idle": "2025-04-24T13:08:03.400761Z",
     "shell.execute_reply": "2025-04-24T13:08:03.399826Z"
    },
    "papermill": {
     "duration": 0.051623,
     "end_time": "2025-04-24T13:08:03.402515",
     "exception": false,
     "start_time": "2025-04-24T13:08:03.350892",
     "status": "completed"
    },
    "tags": []
   },
   "outputs": [],
   "source": [
    "df=pd.read_csv(\"/kaggle/input/titanic-dataset/Titanic-Dataset.csv\",index_col=0)"
   ]
  },
  {
   "cell_type": "markdown",
   "id": "aab3f2cf",
   "metadata": {
    "papermill": {
     "duration": 0.007249,
     "end_time": "2025-04-24T13:08:03.416355",
     "exception": false,
     "start_time": "2025-04-24T13:08:03.409106",
     "status": "completed"
    },
    "tags": []
   },
   "source": [
    "# Exploring the dataset:"
   ]
  },
  {
   "cell_type": "code",
   "execution_count": 3,
   "id": "066b6e94",
   "metadata": {
    "execution": {
     "iopub.execute_input": "2025-04-24T13:08:03.430245Z",
     "iopub.status.busy": "2025-04-24T13:08:03.429917Z",
     "iopub.status.idle": "2025-04-24T13:08:03.456845Z",
     "shell.execute_reply": "2025-04-24T13:08:03.455929Z"
    },
    "papermill": {
     "duration": 0.03594,
     "end_time": "2025-04-24T13:08:03.458590",
     "exception": false,
     "start_time": "2025-04-24T13:08:03.422650",
     "status": "completed"
    },
    "tags": []
   },
   "outputs": [
    {
     "data": {
      "text/html": [
       "<div>\n",
       "<style scoped>\n",
       "    .dataframe tbody tr th:only-of-type {\n",
       "        vertical-align: middle;\n",
       "    }\n",
       "\n",
       "    .dataframe tbody tr th {\n",
       "        vertical-align: top;\n",
       "    }\n",
       "\n",
       "    .dataframe thead th {\n",
       "        text-align: right;\n",
       "    }\n",
       "</style>\n",
       "<table border=\"1\" class=\"dataframe\">\n",
       "  <thead>\n",
       "    <tr style=\"text-align: right;\">\n",
       "      <th></th>\n",
       "      <th>Survived</th>\n",
       "      <th>Pclass</th>\n",
       "      <th>Name</th>\n",
       "      <th>Sex</th>\n",
       "      <th>Age</th>\n",
       "      <th>SibSp</th>\n",
       "      <th>Parch</th>\n",
       "      <th>Ticket</th>\n",
       "      <th>Fare</th>\n",
       "      <th>Cabin</th>\n",
       "      <th>Embarked</th>\n",
       "    </tr>\n",
       "    <tr>\n",
       "      <th>PassengerId</th>\n",
       "      <th></th>\n",
       "      <th></th>\n",
       "      <th></th>\n",
       "      <th></th>\n",
       "      <th></th>\n",
       "      <th></th>\n",
       "      <th></th>\n",
       "      <th></th>\n",
       "      <th></th>\n",
       "      <th></th>\n",
       "      <th></th>\n",
       "    </tr>\n",
       "  </thead>\n",
       "  <tbody>\n",
       "    <tr>\n",
       "      <th>1</th>\n",
       "      <td>0</td>\n",
       "      <td>3</td>\n",
       "      <td>Braund, Mr. Owen Harris</td>\n",
       "      <td>male</td>\n",
       "      <td>22.0</td>\n",
       "      <td>1</td>\n",
       "      <td>0</td>\n",
       "      <td>A/5 21171</td>\n",
       "      <td>7.2500</td>\n",
       "      <td>NaN</td>\n",
       "      <td>S</td>\n",
       "    </tr>\n",
       "    <tr>\n",
       "      <th>2</th>\n",
       "      <td>1</td>\n",
       "      <td>1</td>\n",
       "      <td>Cumings, Mrs. John Bradley (Florence Briggs Th...</td>\n",
       "      <td>female</td>\n",
       "      <td>38.0</td>\n",
       "      <td>1</td>\n",
       "      <td>0</td>\n",
       "      <td>PC 17599</td>\n",
       "      <td>71.2833</td>\n",
       "      <td>C85</td>\n",
       "      <td>C</td>\n",
       "    </tr>\n",
       "    <tr>\n",
       "      <th>3</th>\n",
       "      <td>1</td>\n",
       "      <td>3</td>\n",
       "      <td>Heikkinen, Miss. Laina</td>\n",
       "      <td>female</td>\n",
       "      <td>26.0</td>\n",
       "      <td>0</td>\n",
       "      <td>0</td>\n",
       "      <td>STON/O2. 3101282</td>\n",
       "      <td>7.9250</td>\n",
       "      <td>NaN</td>\n",
       "      <td>S</td>\n",
       "    </tr>\n",
       "    <tr>\n",
       "      <th>4</th>\n",
       "      <td>1</td>\n",
       "      <td>1</td>\n",
       "      <td>Futrelle, Mrs. Jacques Heath (Lily May Peel)</td>\n",
       "      <td>female</td>\n",
       "      <td>35.0</td>\n",
       "      <td>1</td>\n",
       "      <td>0</td>\n",
       "      <td>113803</td>\n",
       "      <td>53.1000</td>\n",
       "      <td>C123</td>\n",
       "      <td>S</td>\n",
       "    </tr>\n",
       "    <tr>\n",
       "      <th>5</th>\n",
       "      <td>0</td>\n",
       "      <td>3</td>\n",
       "      <td>Allen, Mr. William Henry</td>\n",
       "      <td>male</td>\n",
       "      <td>35.0</td>\n",
       "      <td>0</td>\n",
       "      <td>0</td>\n",
       "      <td>373450</td>\n",
       "      <td>8.0500</td>\n",
       "      <td>NaN</td>\n",
       "      <td>S</td>\n",
       "    </tr>\n",
       "  </tbody>\n",
       "</table>\n",
       "</div>"
      ],
      "text/plain": [
       "             Survived  Pclass  \\\n",
       "PassengerId                     \n",
       "1                   0       3   \n",
       "2                   1       1   \n",
       "3                   1       3   \n",
       "4                   1       1   \n",
       "5                   0       3   \n",
       "\n",
       "                                                          Name     Sex   Age  \\\n",
       "PassengerId                                                                    \n",
       "1                                      Braund, Mr. Owen Harris    male  22.0   \n",
       "2            Cumings, Mrs. John Bradley (Florence Briggs Th...  female  38.0   \n",
       "3                                       Heikkinen, Miss. Laina  female  26.0   \n",
       "4                 Futrelle, Mrs. Jacques Heath (Lily May Peel)  female  35.0   \n",
       "5                                     Allen, Mr. William Henry    male  35.0   \n",
       "\n",
       "             SibSp  Parch            Ticket     Fare Cabin Embarked  \n",
       "PassengerId                                                          \n",
       "1                1      0         A/5 21171   7.2500   NaN        S  \n",
       "2                1      0          PC 17599  71.2833   C85        C  \n",
       "3                0      0  STON/O2. 3101282   7.9250   NaN        S  \n",
       "4                1      0            113803  53.1000  C123        S  \n",
       "5                0      0            373450   8.0500   NaN        S  "
      ]
     },
     "execution_count": 3,
     "metadata": {},
     "output_type": "execute_result"
    }
   ],
   "source": [
    "df.head()"
   ]
  },
  {
   "cell_type": "code",
   "execution_count": 4,
   "id": "3a986d65",
   "metadata": {
    "execution": {
     "iopub.execute_input": "2025-04-24T13:08:03.473758Z",
     "iopub.status.busy": "2025-04-24T13:08:03.473456Z",
     "iopub.status.idle": "2025-04-24T13:08:03.479187Z",
     "shell.execute_reply": "2025-04-24T13:08:03.478250Z"
    },
    "papermill": {
     "duration": 0.01502,
     "end_time": "2025-04-24T13:08:03.480886",
     "exception": false,
     "start_time": "2025-04-24T13:08:03.465866",
     "status": "completed"
    },
    "tags": []
   },
   "outputs": [
    {
     "data": {
      "text/plain": [
       "(891, 11)"
      ]
     },
     "execution_count": 4,
     "metadata": {},
     "output_type": "execute_result"
    }
   ],
   "source": [
    "df.shape"
   ]
  },
  {
   "cell_type": "code",
   "execution_count": 5,
   "id": "7c1f025f",
   "metadata": {
    "execution": {
     "iopub.execute_input": "2025-04-24T13:08:03.496071Z",
     "iopub.status.busy": "2025-04-24T13:08:03.495595Z",
     "iopub.status.idle": "2025-04-24T13:08:03.517324Z",
     "shell.execute_reply": "2025-04-24T13:08:03.515727Z"
    },
    "papermill": {
     "duration": 0.031436,
     "end_time": "2025-04-24T13:08:03.519337",
     "exception": false,
     "start_time": "2025-04-24T13:08:03.487901",
     "status": "completed"
    },
    "tags": []
   },
   "outputs": [
    {
     "name": "stdout",
     "output_type": "stream",
     "text": [
      "<class 'pandas.core.frame.DataFrame'>\n",
      "Index: 891 entries, 1 to 891\n",
      "Data columns (total 11 columns):\n",
      " #   Column    Non-Null Count  Dtype  \n",
      "---  ------    --------------  -----  \n",
      " 0   Survived  891 non-null    int64  \n",
      " 1   Pclass    891 non-null    int64  \n",
      " 2   Name      891 non-null    object \n",
      " 3   Sex       891 non-null    object \n",
      " 4   Age       714 non-null    float64\n",
      " 5   SibSp     891 non-null    int64  \n",
      " 6   Parch     891 non-null    int64  \n",
      " 7   Ticket    891 non-null    object \n",
      " 8   Fare      891 non-null    float64\n",
      " 9   Cabin     204 non-null    object \n",
      " 10  Embarked  889 non-null    object \n",
      "dtypes: float64(2), int64(4), object(5)\n",
      "memory usage: 83.5+ KB\n"
     ]
    }
   ],
   "source": [
    "df.info()"
   ]
  },
  {
   "cell_type": "code",
   "execution_count": 6,
   "id": "26897b30",
   "metadata": {
    "execution": {
     "iopub.execute_input": "2025-04-24T13:08:03.534432Z",
     "iopub.status.busy": "2025-04-24T13:08:03.534074Z",
     "iopub.status.idle": "2025-04-24T13:08:03.559245Z",
     "shell.execute_reply": "2025-04-24T13:08:03.558185Z"
    },
    "papermill": {
     "duration": 0.034578,
     "end_time": "2025-04-24T13:08:03.560939",
     "exception": false,
     "start_time": "2025-04-24T13:08:03.526361",
     "status": "completed"
    },
    "tags": []
   },
   "outputs": [
    {
     "data": {
      "text/html": [
       "<div>\n",
       "<style scoped>\n",
       "    .dataframe tbody tr th:only-of-type {\n",
       "        vertical-align: middle;\n",
       "    }\n",
       "\n",
       "    .dataframe tbody tr th {\n",
       "        vertical-align: top;\n",
       "    }\n",
       "\n",
       "    .dataframe thead th {\n",
       "        text-align: right;\n",
       "    }\n",
       "</style>\n",
       "<table border=\"1\" class=\"dataframe\">\n",
       "  <thead>\n",
       "    <tr style=\"text-align: right;\">\n",
       "      <th></th>\n",
       "      <th>Survived</th>\n",
       "      <th>Pclass</th>\n",
       "      <th>Age</th>\n",
       "      <th>SibSp</th>\n",
       "      <th>Parch</th>\n",
       "      <th>Fare</th>\n",
       "    </tr>\n",
       "  </thead>\n",
       "  <tbody>\n",
       "    <tr>\n",
       "      <th>count</th>\n",
       "      <td>891.000000</td>\n",
       "      <td>891.000000</td>\n",
       "      <td>714.000000</td>\n",
       "      <td>891.000000</td>\n",
       "      <td>891.000000</td>\n",
       "      <td>891.000000</td>\n",
       "    </tr>\n",
       "    <tr>\n",
       "      <th>mean</th>\n",
       "      <td>0.383838</td>\n",
       "      <td>2.308642</td>\n",
       "      <td>29.699118</td>\n",
       "      <td>0.523008</td>\n",
       "      <td>0.381594</td>\n",
       "      <td>32.204208</td>\n",
       "    </tr>\n",
       "    <tr>\n",
       "      <th>std</th>\n",
       "      <td>0.486592</td>\n",
       "      <td>0.836071</td>\n",
       "      <td>14.526497</td>\n",
       "      <td>1.102743</td>\n",
       "      <td>0.806057</td>\n",
       "      <td>49.693429</td>\n",
       "    </tr>\n",
       "    <tr>\n",
       "      <th>min</th>\n",
       "      <td>0.000000</td>\n",
       "      <td>1.000000</td>\n",
       "      <td>0.420000</td>\n",
       "      <td>0.000000</td>\n",
       "      <td>0.000000</td>\n",
       "      <td>0.000000</td>\n",
       "    </tr>\n",
       "    <tr>\n",
       "      <th>25%</th>\n",
       "      <td>0.000000</td>\n",
       "      <td>2.000000</td>\n",
       "      <td>20.125000</td>\n",
       "      <td>0.000000</td>\n",
       "      <td>0.000000</td>\n",
       "      <td>7.910400</td>\n",
       "    </tr>\n",
       "    <tr>\n",
       "      <th>50%</th>\n",
       "      <td>0.000000</td>\n",
       "      <td>3.000000</td>\n",
       "      <td>28.000000</td>\n",
       "      <td>0.000000</td>\n",
       "      <td>0.000000</td>\n",
       "      <td>14.454200</td>\n",
       "    </tr>\n",
       "    <tr>\n",
       "      <th>75%</th>\n",
       "      <td>1.000000</td>\n",
       "      <td>3.000000</td>\n",
       "      <td>38.000000</td>\n",
       "      <td>1.000000</td>\n",
       "      <td>0.000000</td>\n",
       "      <td>31.000000</td>\n",
       "    </tr>\n",
       "    <tr>\n",
       "      <th>max</th>\n",
       "      <td>1.000000</td>\n",
       "      <td>3.000000</td>\n",
       "      <td>80.000000</td>\n",
       "      <td>8.000000</td>\n",
       "      <td>6.000000</td>\n",
       "      <td>512.329200</td>\n",
       "    </tr>\n",
       "  </tbody>\n",
       "</table>\n",
       "</div>"
      ],
      "text/plain": [
       "         Survived      Pclass         Age       SibSp       Parch        Fare\n",
       "count  891.000000  891.000000  714.000000  891.000000  891.000000  891.000000\n",
       "mean     0.383838    2.308642   29.699118    0.523008    0.381594   32.204208\n",
       "std      0.486592    0.836071   14.526497    1.102743    0.806057   49.693429\n",
       "min      0.000000    1.000000    0.420000    0.000000    0.000000    0.000000\n",
       "25%      0.000000    2.000000   20.125000    0.000000    0.000000    7.910400\n",
       "50%      0.000000    3.000000   28.000000    0.000000    0.000000   14.454200\n",
       "75%      1.000000    3.000000   38.000000    1.000000    0.000000   31.000000\n",
       "max      1.000000    3.000000   80.000000    8.000000    6.000000  512.329200"
      ]
     },
     "execution_count": 6,
     "metadata": {},
     "output_type": "execute_result"
    }
   ],
   "source": [
    "df.describe()"
   ]
  },
  {
   "cell_type": "markdown",
   "id": "1f326fe3",
   "metadata": {
    "papermill": {
     "duration": 0.006557,
     "end_time": "2025-04-24T13:08:03.574601",
     "exception": false,
     "start_time": "2025-04-24T13:08:03.568044",
     "status": "completed"
    },
    "tags": []
   },
   "source": [
    "# Handling the missing values:"
   ]
  },
  {
   "cell_type": "code",
   "execution_count": 7,
   "id": "a0b2509d",
   "metadata": {
    "execution": {
     "iopub.execute_input": "2025-04-24T13:08:03.589636Z",
     "iopub.status.busy": "2025-04-24T13:08:03.589317Z",
     "iopub.status.idle": "2025-04-24T13:08:03.597663Z",
     "shell.execute_reply": "2025-04-24T13:08:03.596688Z"
    },
    "papermill": {
     "duration": 0.017757,
     "end_time": "2025-04-24T13:08:03.599208",
     "exception": false,
     "start_time": "2025-04-24T13:08:03.581451",
     "status": "completed"
    },
    "tags": []
   },
   "outputs": [
    {
     "data": {
      "text/plain": [
       "Survived      0\n",
       "Pclass        0\n",
       "Name          0\n",
       "Sex           0\n",
       "Age         177\n",
       "SibSp         0\n",
       "Parch         0\n",
       "Ticket        0\n",
       "Fare          0\n",
       "Cabin       687\n",
       "Embarked      2\n",
       "dtype: int64"
      ]
     },
     "execution_count": 7,
     "metadata": {},
     "output_type": "execute_result"
    }
   ],
   "source": [
    "df.isnull().sum()"
   ]
  },
  {
   "cell_type": "markdown",
   "id": "e137cda4",
   "metadata": {
    "papermill": {
     "duration": 0.006786,
     "end_time": "2025-04-24T13:08:03.613457",
     "exception": false,
     "start_time": "2025-04-24T13:08:03.606671",
     "status": "completed"
    },
    "tags": []
   },
   "source": [
    "### Filling the missing value of Age column using median:"
   ]
  },
  {
   "cell_type": "code",
   "execution_count": 8,
   "id": "1f2c0c96",
   "metadata": {
    "execution": {
     "iopub.execute_input": "2025-04-24T13:08:03.628649Z",
     "iopub.status.busy": "2025-04-24T13:08:03.628343Z",
     "iopub.status.idle": "2025-04-24T13:08:03.634707Z",
     "shell.execute_reply": "2025-04-24T13:08:03.633618Z"
    },
    "papermill": {
     "duration": 0.015972,
     "end_time": "2025-04-24T13:08:03.636330",
     "exception": false,
     "start_time": "2025-04-24T13:08:03.620358",
     "status": "completed"
    },
    "tags": []
   },
   "outputs": [
    {
     "name": "stderr",
     "output_type": "stream",
     "text": [
      "/tmp/ipykernel_14/1933487976.py:1: FutureWarning: A value is trying to be set on a copy of a DataFrame or Series through chained assignment using an inplace method.\n",
      "The behavior will change in pandas 3.0. This inplace method will never work because the intermediate object on which we are setting values always behaves as a copy.\n",
      "\n",
      "For example, when doing 'df[col].method(value, inplace=True)', try using 'df.method({col: value}, inplace=True)' or df[col] = df[col].method(value) instead, to perform the operation inplace on the original object.\n",
      "\n",
      "\n",
      "  df['Age'].fillna(df['Age'].median(), inplace=True)\n"
     ]
    }
   ],
   "source": [
    "df['Age'].fillna(df['Age'].median(), inplace=True)"
   ]
  },
  {
   "cell_type": "markdown",
   "id": "bd071149",
   "metadata": {
    "papermill": {
     "duration": 0.006758,
     "end_time": "2025-04-24T13:08:03.650726",
     "exception": false,
     "start_time": "2025-04-24T13:08:03.643968",
     "status": "completed"
    },
    "tags": []
   },
   "source": [
    "### Filling the missing value of Cabin column using most frequent:\n",
    "-> because the Cabin column's datatype is object therefore we can use most_frequent method to fill the missing values."
   ]
  },
  {
   "cell_type": "code",
   "execution_count": 9,
   "id": "3e895fb5",
   "metadata": {
    "execution": {
     "iopub.execute_input": "2025-04-24T13:08:03.666796Z",
     "iopub.status.busy": "2025-04-24T13:08:03.666480Z",
     "iopub.status.idle": "2025-04-24T13:08:03.674995Z",
     "shell.execute_reply": "2025-04-24T13:08:03.674004Z"
    },
    "papermill": {
     "duration": 0.019139,
     "end_time": "2025-04-24T13:08:03.676706",
     "exception": false,
     "start_time": "2025-04-24T13:08:03.657567",
     "status": "completed"
    },
    "tags": []
   },
   "outputs": [
    {
     "data": {
      "text/plain": [
       "Cabin\n",
       "B96 B98        4\n",
       "G6             4\n",
       "C23 C25 C27    4\n",
       "C22 C26        3\n",
       "F33            3\n",
       "              ..\n",
       "E34            1\n",
       "C7             1\n",
       "C54            1\n",
       "E36            1\n",
       "C148           1\n",
       "Name: count, Length: 147, dtype: int64"
      ]
     },
     "execution_count": 9,
     "metadata": {},
     "output_type": "execute_result"
    }
   ],
   "source": [
    "df['Cabin'].value_counts()"
   ]
  },
  {
   "cell_type": "code",
   "execution_count": 10,
   "id": "00b25e60",
   "metadata": {
    "execution": {
     "iopub.execute_input": "2025-04-24T13:08:03.694039Z",
     "iopub.status.busy": "2025-04-24T13:08:03.693567Z",
     "iopub.status.idle": "2025-04-24T13:08:03.705612Z",
     "shell.execute_reply": "2025-04-24T13:08:03.704724Z"
    },
    "papermill": {
     "duration": 0.022638,
     "end_time": "2025-04-24T13:08:03.707278",
     "exception": false,
     "start_time": "2025-04-24T13:08:03.684640",
     "status": "completed"
    },
    "tags": []
   },
   "outputs": [],
   "source": [
    "si=SimpleImputer(strategy='most_frequent')\n",
    "df['Cabin'] = si.fit_transform(df[['Cabin']]).ravel()"
   ]
  },
  {
   "cell_type": "markdown",
   "id": "7f0d75d4",
   "metadata": {
    "papermill": {
     "duration": 0.007497,
     "end_time": "2025-04-24T13:08:03.721999",
     "exception": false,
     "start_time": "2025-04-24T13:08:03.714502",
     "status": "completed"
    },
    "tags": []
   },
   "source": [
    "### Filling the missing value of the Embarked columns:"
   ]
  },
  {
   "cell_type": "code",
   "execution_count": 11,
   "id": "0f24c8c4",
   "metadata": {
    "execution": {
     "iopub.execute_input": "2025-04-24T13:08:03.738440Z",
     "iopub.status.busy": "2025-04-24T13:08:03.738108Z",
     "iopub.status.idle": "2025-04-24T13:08:03.746431Z",
     "shell.execute_reply": "2025-04-24T13:08:03.745289Z"
    },
    "papermill": {
     "duration": 0.018946,
     "end_time": "2025-04-24T13:08:03.748174",
     "exception": false,
     "start_time": "2025-04-24T13:08:03.729228",
     "status": "completed"
    },
    "tags": []
   },
   "outputs": [
    {
     "data": {
      "text/plain": [
       "Embarked\n",
       "S    644\n",
       "C    168\n",
       "Q     77\n",
       "Name: count, dtype: int64"
      ]
     },
     "execution_count": 11,
     "metadata": {},
     "output_type": "execute_result"
    }
   ],
   "source": [
    "df['Embarked'].value_counts()"
   ]
  },
  {
   "cell_type": "code",
   "execution_count": 12,
   "id": "f4f70d35",
   "metadata": {
    "execution": {
     "iopub.execute_input": "2025-04-24T13:08:03.764274Z",
     "iopub.status.busy": "2025-04-24T13:08:03.763939Z",
     "iopub.status.idle": "2025-04-24T13:08:03.773556Z",
     "shell.execute_reply": "2025-04-24T13:08:03.772559Z"
    },
    "papermill": {
     "duration": 0.01934,
     "end_time": "2025-04-24T13:08:03.775060",
     "exception": false,
     "start_time": "2025-04-24T13:08:03.755720",
     "status": "completed"
    },
    "tags": []
   },
   "outputs": [],
   "source": [
    "df['Embarked']=si.fit_transform(df[['Embarked']]).ravel()"
   ]
  },
  {
   "cell_type": "markdown",
   "id": "20ac0b9a",
   "metadata": {
    "papermill": {
     "duration": 0.006926,
     "end_time": "2025-04-24T13:08:03.789464",
     "exception": false,
     "start_time": "2025-04-24T13:08:03.782538",
     "status": "completed"
    },
    "tags": []
   },
   "source": [
    "### Varifying the process:"
   ]
  },
  {
   "cell_type": "code",
   "execution_count": 13,
   "id": "178fc826",
   "metadata": {
    "execution": {
     "iopub.execute_input": "2025-04-24T13:08:03.805147Z",
     "iopub.status.busy": "2025-04-24T13:08:03.804781Z",
     "iopub.status.idle": "2025-04-24T13:08:03.813367Z",
     "shell.execute_reply": "2025-04-24T13:08:03.812361Z"
    },
    "papermill": {
     "duration": 0.018405,
     "end_time": "2025-04-24T13:08:03.815151",
     "exception": false,
     "start_time": "2025-04-24T13:08:03.796746",
     "status": "completed"
    },
    "tags": []
   },
   "outputs": [
    {
     "data": {
      "text/plain": [
       "Survived    0\n",
       "Pclass      0\n",
       "Name        0\n",
       "Sex         0\n",
       "Age         0\n",
       "SibSp       0\n",
       "Parch       0\n",
       "Ticket      0\n",
       "Fare        0\n",
       "Cabin       0\n",
       "Embarked    0\n",
       "dtype: int64"
      ]
     },
     "execution_count": 13,
     "metadata": {},
     "output_type": "execute_result"
    }
   ],
   "source": [
    "df.isnull().sum()"
   ]
  },
  {
   "cell_type": "markdown",
   "id": "aacd1dbe",
   "metadata": {
    "papermill": {
     "duration": 0.007373,
     "end_time": "2025-04-24T13:08:03.830102",
     "exception": false,
     "start_time": "2025-04-24T13:08:03.822729",
     "status": "completed"
    },
    "tags": []
   },
   "source": [
    "# Splitting the cabin column:"
   ]
  },
  {
   "cell_type": "code",
   "execution_count": 14,
   "id": "517d12e1",
   "metadata": {
    "execution": {
     "iopub.execute_input": "2025-04-24T13:08:03.846144Z",
     "iopub.status.busy": "2025-04-24T13:08:03.845791Z",
     "iopub.status.idle": "2025-04-24T13:08:03.856300Z",
     "shell.execute_reply": "2025-04-24T13:08:03.855077Z"
    },
    "papermill": {
     "duration": 0.020669,
     "end_time": "2025-04-24T13:08:03.858057",
     "exception": false,
     "start_time": "2025-04-24T13:08:03.837388",
     "status": "completed"
    },
    "tags": []
   },
   "outputs": [],
   "source": [
    "df['Deck'] = df['Cabin'].str.extract(r'([A-Za-z])')  # Extract the letter part as Deck\n",
    "df['Room'] = df['Cabin'].str.extract(r'(\\d+)')      # Extract the number part as Room"
   ]
  },
  {
   "cell_type": "code",
   "execution_count": 15,
   "id": "fb428537",
   "metadata": {
    "execution": {
     "iopub.execute_input": "2025-04-24T13:08:03.875365Z",
     "iopub.status.busy": "2025-04-24T13:08:03.874666Z",
     "iopub.status.idle": "2025-04-24T13:08:03.889942Z",
     "shell.execute_reply": "2025-04-24T13:08:03.888899Z"
    },
    "papermill": {
     "duration": 0.025643,
     "end_time": "2025-04-24T13:08:03.891708",
     "exception": false,
     "start_time": "2025-04-24T13:08:03.866065",
     "status": "completed"
    },
    "tags": []
   },
   "outputs": [
    {
     "data": {
      "text/html": [
       "<div>\n",
       "<style scoped>\n",
       "    .dataframe tbody tr th:only-of-type {\n",
       "        vertical-align: middle;\n",
       "    }\n",
       "\n",
       "    .dataframe tbody tr th {\n",
       "        vertical-align: top;\n",
       "    }\n",
       "\n",
       "    .dataframe thead th {\n",
       "        text-align: right;\n",
       "    }\n",
       "</style>\n",
       "<table border=\"1\" class=\"dataframe\">\n",
       "  <thead>\n",
       "    <tr style=\"text-align: right;\">\n",
       "      <th></th>\n",
       "      <th>Survived</th>\n",
       "      <th>Pclass</th>\n",
       "      <th>Name</th>\n",
       "      <th>Sex</th>\n",
       "      <th>Age</th>\n",
       "      <th>SibSp</th>\n",
       "      <th>Parch</th>\n",
       "      <th>Ticket</th>\n",
       "      <th>Fare</th>\n",
       "      <th>Cabin</th>\n",
       "      <th>Embarked</th>\n",
       "      <th>Deck</th>\n",
       "      <th>Room</th>\n",
       "    </tr>\n",
       "    <tr>\n",
       "      <th>PassengerId</th>\n",
       "      <th></th>\n",
       "      <th></th>\n",
       "      <th></th>\n",
       "      <th></th>\n",
       "      <th></th>\n",
       "      <th></th>\n",
       "      <th></th>\n",
       "      <th></th>\n",
       "      <th></th>\n",
       "      <th></th>\n",
       "      <th></th>\n",
       "      <th></th>\n",
       "      <th></th>\n",
       "    </tr>\n",
       "  </thead>\n",
       "  <tbody>\n",
       "    <tr>\n",
       "      <th>1</th>\n",
       "      <td>0</td>\n",
       "      <td>3</td>\n",
       "      <td>Braund, Mr. Owen Harris</td>\n",
       "      <td>male</td>\n",
       "      <td>22.0</td>\n",
       "      <td>1</td>\n",
       "      <td>0</td>\n",
       "      <td>A/5 21171</td>\n",
       "      <td>7.2500</td>\n",
       "      <td>B96 B98</td>\n",
       "      <td>S</td>\n",
       "      <td>B</td>\n",
       "      <td>96</td>\n",
       "    </tr>\n",
       "    <tr>\n",
       "      <th>2</th>\n",
       "      <td>1</td>\n",
       "      <td>1</td>\n",
       "      <td>Cumings, Mrs. John Bradley (Florence Briggs Th...</td>\n",
       "      <td>female</td>\n",
       "      <td>38.0</td>\n",
       "      <td>1</td>\n",
       "      <td>0</td>\n",
       "      <td>PC 17599</td>\n",
       "      <td>71.2833</td>\n",
       "      <td>C85</td>\n",
       "      <td>C</td>\n",
       "      <td>C</td>\n",
       "      <td>85</td>\n",
       "    </tr>\n",
       "    <tr>\n",
       "      <th>3</th>\n",
       "      <td>1</td>\n",
       "      <td>3</td>\n",
       "      <td>Heikkinen, Miss. Laina</td>\n",
       "      <td>female</td>\n",
       "      <td>26.0</td>\n",
       "      <td>0</td>\n",
       "      <td>0</td>\n",
       "      <td>STON/O2. 3101282</td>\n",
       "      <td>7.9250</td>\n",
       "      <td>B96 B98</td>\n",
       "      <td>S</td>\n",
       "      <td>B</td>\n",
       "      <td>96</td>\n",
       "    </tr>\n",
       "    <tr>\n",
       "      <th>4</th>\n",
       "      <td>1</td>\n",
       "      <td>1</td>\n",
       "      <td>Futrelle, Mrs. Jacques Heath (Lily May Peel)</td>\n",
       "      <td>female</td>\n",
       "      <td>35.0</td>\n",
       "      <td>1</td>\n",
       "      <td>0</td>\n",
       "      <td>113803</td>\n",
       "      <td>53.1000</td>\n",
       "      <td>C123</td>\n",
       "      <td>S</td>\n",
       "      <td>C</td>\n",
       "      <td>123</td>\n",
       "    </tr>\n",
       "    <tr>\n",
       "      <th>5</th>\n",
       "      <td>0</td>\n",
       "      <td>3</td>\n",
       "      <td>Allen, Mr. William Henry</td>\n",
       "      <td>male</td>\n",
       "      <td>35.0</td>\n",
       "      <td>0</td>\n",
       "      <td>0</td>\n",
       "      <td>373450</td>\n",
       "      <td>8.0500</td>\n",
       "      <td>B96 B98</td>\n",
       "      <td>S</td>\n",
       "      <td>B</td>\n",
       "      <td>96</td>\n",
       "    </tr>\n",
       "  </tbody>\n",
       "</table>\n",
       "</div>"
      ],
      "text/plain": [
       "             Survived  Pclass  \\\n",
       "PassengerId                     \n",
       "1                   0       3   \n",
       "2                   1       1   \n",
       "3                   1       3   \n",
       "4                   1       1   \n",
       "5                   0       3   \n",
       "\n",
       "                                                          Name     Sex   Age  \\\n",
       "PassengerId                                                                    \n",
       "1                                      Braund, Mr. Owen Harris    male  22.0   \n",
       "2            Cumings, Mrs. John Bradley (Florence Briggs Th...  female  38.0   \n",
       "3                                       Heikkinen, Miss. Laina  female  26.0   \n",
       "4                 Futrelle, Mrs. Jacques Heath (Lily May Peel)  female  35.0   \n",
       "5                                     Allen, Mr. William Henry    male  35.0   \n",
       "\n",
       "             SibSp  Parch            Ticket     Fare    Cabin Embarked Deck  \\\n",
       "PassengerId                                                                   \n",
       "1                1      0         A/5 21171   7.2500  B96 B98        S    B   \n",
       "2                1      0          PC 17599  71.2833      C85        C    C   \n",
       "3                0      0  STON/O2. 3101282   7.9250  B96 B98        S    B   \n",
       "4                1      0            113803  53.1000     C123        S    C   \n",
       "5                0      0            373450   8.0500  B96 B98        S    B   \n",
       "\n",
       "            Room  \n",
       "PassengerId       \n",
       "1             96  \n",
       "2             85  \n",
       "3             96  \n",
       "4            123  \n",
       "5             96  "
      ]
     },
     "execution_count": 15,
     "metadata": {},
     "output_type": "execute_result"
    }
   ],
   "source": [
    "df.head()"
   ]
  },
  {
   "cell_type": "code",
   "execution_count": 16,
   "id": "bd177fb9",
   "metadata": {
    "execution": {
     "iopub.execute_input": "2025-04-24T13:08:03.908413Z",
     "iopub.status.busy": "2025-04-24T13:08:03.908043Z",
     "iopub.status.idle": "2025-04-24T13:08:03.913776Z",
     "shell.execute_reply": "2025-04-24T13:08:03.912863Z"
    },
    "papermill": {
     "duration": 0.016196,
     "end_time": "2025-04-24T13:08:03.915736",
     "exception": false,
     "start_time": "2025-04-24T13:08:03.899540",
     "status": "completed"
    },
    "tags": []
   },
   "outputs": [],
   "source": [
    "df.drop(columns=['Cabin'],inplace=True)"
   ]
  },
  {
   "cell_type": "code",
   "execution_count": 17,
   "id": "a8168822",
   "metadata": {
    "execution": {
     "iopub.execute_input": "2025-04-24T13:08:03.996294Z",
     "iopub.status.busy": "2025-04-24T13:08:03.995992Z",
     "iopub.status.idle": "2025-04-24T13:08:04.010083Z",
     "shell.execute_reply": "2025-04-24T13:08:04.009003Z"
    },
    "papermill": {
     "duration": 0.088661,
     "end_time": "2025-04-24T13:08:04.012040",
     "exception": false,
     "start_time": "2025-04-24T13:08:03.923379",
     "status": "completed"
    },
    "tags": []
   },
   "outputs": [
    {
     "data": {
      "text/html": [
       "<div>\n",
       "<style scoped>\n",
       "    .dataframe tbody tr th:only-of-type {\n",
       "        vertical-align: middle;\n",
       "    }\n",
       "\n",
       "    .dataframe tbody tr th {\n",
       "        vertical-align: top;\n",
       "    }\n",
       "\n",
       "    .dataframe thead th {\n",
       "        text-align: right;\n",
       "    }\n",
       "</style>\n",
       "<table border=\"1\" class=\"dataframe\">\n",
       "  <thead>\n",
       "    <tr style=\"text-align: right;\">\n",
       "      <th></th>\n",
       "      <th>Survived</th>\n",
       "      <th>Pclass</th>\n",
       "      <th>Name</th>\n",
       "      <th>Sex</th>\n",
       "      <th>Age</th>\n",
       "      <th>SibSp</th>\n",
       "      <th>Parch</th>\n",
       "      <th>Ticket</th>\n",
       "      <th>Fare</th>\n",
       "      <th>Embarked</th>\n",
       "      <th>Deck</th>\n",
       "      <th>Room</th>\n",
       "    </tr>\n",
       "    <tr>\n",
       "      <th>PassengerId</th>\n",
       "      <th></th>\n",
       "      <th></th>\n",
       "      <th></th>\n",
       "      <th></th>\n",
       "      <th></th>\n",
       "      <th></th>\n",
       "      <th></th>\n",
       "      <th></th>\n",
       "      <th></th>\n",
       "      <th></th>\n",
       "      <th></th>\n",
       "      <th></th>\n",
       "    </tr>\n",
       "  </thead>\n",
       "  <tbody>\n",
       "    <tr>\n",
       "      <th>1</th>\n",
       "      <td>0</td>\n",
       "      <td>3</td>\n",
       "      <td>Braund, Mr. Owen Harris</td>\n",
       "      <td>male</td>\n",
       "      <td>22.0</td>\n",
       "      <td>1</td>\n",
       "      <td>0</td>\n",
       "      <td>A/5 21171</td>\n",
       "      <td>7.2500</td>\n",
       "      <td>S</td>\n",
       "      <td>B</td>\n",
       "      <td>96</td>\n",
       "    </tr>\n",
       "    <tr>\n",
       "      <th>2</th>\n",
       "      <td>1</td>\n",
       "      <td>1</td>\n",
       "      <td>Cumings, Mrs. John Bradley (Florence Briggs Th...</td>\n",
       "      <td>female</td>\n",
       "      <td>38.0</td>\n",
       "      <td>1</td>\n",
       "      <td>0</td>\n",
       "      <td>PC 17599</td>\n",
       "      <td>71.2833</td>\n",
       "      <td>C</td>\n",
       "      <td>C</td>\n",
       "      <td>85</td>\n",
       "    </tr>\n",
       "    <tr>\n",
       "      <th>3</th>\n",
       "      <td>1</td>\n",
       "      <td>3</td>\n",
       "      <td>Heikkinen, Miss. Laina</td>\n",
       "      <td>female</td>\n",
       "      <td>26.0</td>\n",
       "      <td>0</td>\n",
       "      <td>0</td>\n",
       "      <td>STON/O2. 3101282</td>\n",
       "      <td>7.9250</td>\n",
       "      <td>S</td>\n",
       "      <td>B</td>\n",
       "      <td>96</td>\n",
       "    </tr>\n",
       "    <tr>\n",
       "      <th>4</th>\n",
       "      <td>1</td>\n",
       "      <td>1</td>\n",
       "      <td>Futrelle, Mrs. Jacques Heath (Lily May Peel)</td>\n",
       "      <td>female</td>\n",
       "      <td>35.0</td>\n",
       "      <td>1</td>\n",
       "      <td>0</td>\n",
       "      <td>113803</td>\n",
       "      <td>53.1000</td>\n",
       "      <td>S</td>\n",
       "      <td>C</td>\n",
       "      <td>123</td>\n",
       "    </tr>\n",
       "    <tr>\n",
       "      <th>5</th>\n",
       "      <td>0</td>\n",
       "      <td>3</td>\n",
       "      <td>Allen, Mr. William Henry</td>\n",
       "      <td>male</td>\n",
       "      <td>35.0</td>\n",
       "      <td>0</td>\n",
       "      <td>0</td>\n",
       "      <td>373450</td>\n",
       "      <td>8.0500</td>\n",
       "      <td>S</td>\n",
       "      <td>B</td>\n",
       "      <td>96</td>\n",
       "    </tr>\n",
       "  </tbody>\n",
       "</table>\n",
       "</div>"
      ],
      "text/plain": [
       "             Survived  Pclass  \\\n",
       "PassengerId                     \n",
       "1                   0       3   \n",
       "2                   1       1   \n",
       "3                   1       3   \n",
       "4                   1       1   \n",
       "5                   0       3   \n",
       "\n",
       "                                                          Name     Sex   Age  \\\n",
       "PassengerId                                                                    \n",
       "1                                      Braund, Mr. Owen Harris    male  22.0   \n",
       "2            Cumings, Mrs. John Bradley (Florence Briggs Th...  female  38.0   \n",
       "3                                       Heikkinen, Miss. Laina  female  26.0   \n",
       "4                 Futrelle, Mrs. Jacques Heath (Lily May Peel)  female  35.0   \n",
       "5                                     Allen, Mr. William Henry    male  35.0   \n",
       "\n",
       "             SibSp  Parch            Ticket     Fare Embarked Deck Room  \n",
       "PassengerId                                                              \n",
       "1                1      0         A/5 21171   7.2500        S    B   96  \n",
       "2                1      0          PC 17599  71.2833        C    C   85  \n",
       "3                0      0  STON/O2. 3101282   7.9250        S    B   96  \n",
       "4                1      0            113803  53.1000        S    C  123  \n",
       "5                0      0            373450   8.0500        S    B   96  "
      ]
     },
     "execution_count": 17,
     "metadata": {},
     "output_type": "execute_result"
    }
   ],
   "source": [
    "df.head()"
   ]
  },
  {
   "cell_type": "code",
   "execution_count": 18,
   "id": "226753bb",
   "metadata": {
    "execution": {
     "iopub.execute_input": "2025-04-24T13:08:04.030264Z",
     "iopub.status.busy": "2025-04-24T13:08:04.029249Z",
     "iopub.status.idle": "2025-04-24T13:08:04.034775Z",
     "shell.execute_reply": "2025-04-24T13:08:04.033760Z"
    },
    "papermill": {
     "duration": 0.016462,
     "end_time": "2025-04-24T13:08:04.036446",
     "exception": false,
     "start_time": "2025-04-24T13:08:04.019984",
     "status": "completed"
    },
    "tags": []
   },
   "outputs": [],
   "source": [
    "df['Room']=df['Room'].astype('float')"
   ]
  },
  {
   "cell_type": "markdown",
   "id": "63c15b69",
   "metadata": {
    "papermill": {
     "duration": 0.009256,
     "end_time": "2025-04-24T13:08:04.054140",
     "exception": false,
     "start_time": "2025-04-24T13:08:04.044884",
     "status": "completed"
    },
    "tags": []
   },
   "source": [
    "# Converting categorical features into Numerical using encoding:"
   ]
  },
  {
   "cell_type": "code",
   "execution_count": 19,
   "id": "717b2ea7",
   "metadata": {
    "execution": {
     "iopub.execute_input": "2025-04-24T13:08:04.071296Z",
     "iopub.status.busy": "2025-04-24T13:08:04.070964Z",
     "iopub.status.idle": "2025-04-24T13:08:04.076650Z",
     "shell.execute_reply": "2025-04-24T13:08:04.075332Z"
    },
    "papermill": {
     "duration": 0.016294,
     "end_time": "2025-04-24T13:08:04.078466",
     "exception": false,
     "start_time": "2025-04-24T13:08:04.062172",
     "status": "completed"
    },
    "tags": []
   },
   "outputs": [],
   "source": [
    "from sklearn.preprocessing import LabelEncoder"
   ]
  },
  {
   "cell_type": "code",
   "execution_count": 20,
   "id": "02b92fce",
   "metadata": {
    "execution": {
     "iopub.execute_input": "2025-04-24T13:08:04.096000Z",
     "iopub.status.busy": "2025-04-24T13:08:04.095619Z",
     "iopub.status.idle": "2025-04-24T13:08:04.100314Z",
     "shell.execute_reply": "2025-04-24T13:08:04.099081Z"
    },
    "papermill": {
     "duration": 0.015558,
     "end_time": "2025-04-24T13:08:04.102083",
     "exception": false,
     "start_time": "2025-04-24T13:08:04.086525",
     "status": "completed"
    },
    "tags": []
   },
   "outputs": [],
   "source": [
    "le=LabelEncoder()"
   ]
  },
  {
   "cell_type": "code",
   "execution_count": 21,
   "id": "81413a64",
   "metadata": {
    "execution": {
     "iopub.execute_input": "2025-04-24T13:08:04.120464Z",
     "iopub.status.busy": "2025-04-24T13:08:04.120103Z",
     "iopub.status.idle": "2025-04-24T13:08:04.126139Z",
     "shell.execute_reply": "2025-04-24T13:08:04.124996Z"
    },
    "papermill": {
     "duration": 0.017393,
     "end_time": "2025-04-24T13:08:04.127914",
     "exception": false,
     "start_time": "2025-04-24T13:08:04.110521",
     "status": "completed"
    },
    "tags": []
   },
   "outputs": [],
   "source": [
    "df['Deck']=le.fit_transform(df['Deck'])"
   ]
  },
  {
   "cell_type": "code",
   "execution_count": 22,
   "id": "3fd541ae",
   "metadata": {
    "execution": {
     "iopub.execute_input": "2025-04-24T13:08:04.148880Z",
     "iopub.status.busy": "2025-04-24T13:08:04.148534Z",
     "iopub.status.idle": "2025-04-24T13:08:04.154036Z",
     "shell.execute_reply": "2025-04-24T13:08:04.153154Z"
    },
    "papermill": {
     "duration": 0.018487,
     "end_time": "2025-04-24T13:08:04.155796",
     "exception": false,
     "start_time": "2025-04-24T13:08:04.137309",
     "status": "completed"
    },
    "tags": []
   },
   "outputs": [],
   "source": [
    "df['Embarked']=le.fit_transform(df['Embarked'])"
   ]
  },
  {
   "cell_type": "code",
   "execution_count": 23,
   "id": "056ac1a4",
   "metadata": {
    "execution": {
     "iopub.execute_input": "2025-04-24T13:08:04.174304Z",
     "iopub.status.busy": "2025-04-24T13:08:04.173928Z",
     "iopub.status.idle": "2025-04-24T13:08:04.181305Z",
     "shell.execute_reply": "2025-04-24T13:08:04.180286Z"
    },
    "papermill": {
     "duration": 0.019297,
     "end_time": "2025-04-24T13:08:04.183307",
     "exception": false,
     "start_time": "2025-04-24T13:08:04.164010",
     "status": "completed"
    },
    "tags": []
   },
   "outputs": [],
   "source": [
    "df['Sex']=le.fit_transform(df['Sex'])"
   ]
  },
  {
   "cell_type": "code",
   "execution_count": 24,
   "id": "4f640c05",
   "metadata": {
    "execution": {
     "iopub.execute_input": "2025-04-24T13:08:04.202566Z",
     "iopub.status.busy": "2025-04-24T13:08:04.202269Z",
     "iopub.status.idle": "2025-04-24T13:08:04.217213Z",
     "shell.execute_reply": "2025-04-24T13:08:04.215871Z"
    },
    "papermill": {
     "duration": 0.027753,
     "end_time": "2025-04-24T13:08:04.218997",
     "exception": false,
     "start_time": "2025-04-24T13:08:04.191244",
     "status": "completed"
    },
    "tags": []
   },
   "outputs": [
    {
     "data": {
      "text/html": [
       "<div>\n",
       "<style scoped>\n",
       "    .dataframe tbody tr th:only-of-type {\n",
       "        vertical-align: middle;\n",
       "    }\n",
       "\n",
       "    .dataframe tbody tr th {\n",
       "        vertical-align: top;\n",
       "    }\n",
       "\n",
       "    .dataframe thead th {\n",
       "        text-align: right;\n",
       "    }\n",
       "</style>\n",
       "<table border=\"1\" class=\"dataframe\">\n",
       "  <thead>\n",
       "    <tr style=\"text-align: right;\">\n",
       "      <th></th>\n",
       "      <th>Survived</th>\n",
       "      <th>Pclass</th>\n",
       "      <th>Name</th>\n",
       "      <th>Sex</th>\n",
       "      <th>Age</th>\n",
       "      <th>SibSp</th>\n",
       "      <th>Parch</th>\n",
       "      <th>Ticket</th>\n",
       "      <th>Fare</th>\n",
       "      <th>Embarked</th>\n",
       "      <th>Deck</th>\n",
       "      <th>Room</th>\n",
       "    </tr>\n",
       "    <tr>\n",
       "      <th>PassengerId</th>\n",
       "      <th></th>\n",
       "      <th></th>\n",
       "      <th></th>\n",
       "      <th></th>\n",
       "      <th></th>\n",
       "      <th></th>\n",
       "      <th></th>\n",
       "      <th></th>\n",
       "      <th></th>\n",
       "      <th></th>\n",
       "      <th></th>\n",
       "      <th></th>\n",
       "    </tr>\n",
       "  </thead>\n",
       "  <tbody>\n",
       "    <tr>\n",
       "      <th>1</th>\n",
       "      <td>0</td>\n",
       "      <td>3</td>\n",
       "      <td>Braund, Mr. Owen Harris</td>\n",
       "      <td>1</td>\n",
       "      <td>22.0</td>\n",
       "      <td>1</td>\n",
       "      <td>0</td>\n",
       "      <td>A/5 21171</td>\n",
       "      <td>7.2500</td>\n",
       "      <td>2</td>\n",
       "      <td>1</td>\n",
       "      <td>96.0</td>\n",
       "    </tr>\n",
       "    <tr>\n",
       "      <th>2</th>\n",
       "      <td>1</td>\n",
       "      <td>1</td>\n",
       "      <td>Cumings, Mrs. John Bradley (Florence Briggs Th...</td>\n",
       "      <td>0</td>\n",
       "      <td>38.0</td>\n",
       "      <td>1</td>\n",
       "      <td>0</td>\n",
       "      <td>PC 17599</td>\n",
       "      <td>71.2833</td>\n",
       "      <td>0</td>\n",
       "      <td>2</td>\n",
       "      <td>85.0</td>\n",
       "    </tr>\n",
       "    <tr>\n",
       "      <th>3</th>\n",
       "      <td>1</td>\n",
       "      <td>3</td>\n",
       "      <td>Heikkinen, Miss. Laina</td>\n",
       "      <td>0</td>\n",
       "      <td>26.0</td>\n",
       "      <td>0</td>\n",
       "      <td>0</td>\n",
       "      <td>STON/O2. 3101282</td>\n",
       "      <td>7.9250</td>\n",
       "      <td>2</td>\n",
       "      <td>1</td>\n",
       "      <td>96.0</td>\n",
       "    </tr>\n",
       "    <tr>\n",
       "      <th>4</th>\n",
       "      <td>1</td>\n",
       "      <td>1</td>\n",
       "      <td>Futrelle, Mrs. Jacques Heath (Lily May Peel)</td>\n",
       "      <td>0</td>\n",
       "      <td>35.0</td>\n",
       "      <td>1</td>\n",
       "      <td>0</td>\n",
       "      <td>113803</td>\n",
       "      <td>53.1000</td>\n",
       "      <td>2</td>\n",
       "      <td>2</td>\n",
       "      <td>123.0</td>\n",
       "    </tr>\n",
       "    <tr>\n",
       "      <th>5</th>\n",
       "      <td>0</td>\n",
       "      <td>3</td>\n",
       "      <td>Allen, Mr. William Henry</td>\n",
       "      <td>1</td>\n",
       "      <td>35.0</td>\n",
       "      <td>0</td>\n",
       "      <td>0</td>\n",
       "      <td>373450</td>\n",
       "      <td>8.0500</td>\n",
       "      <td>2</td>\n",
       "      <td>1</td>\n",
       "      <td>96.0</td>\n",
       "    </tr>\n",
       "  </tbody>\n",
       "</table>\n",
       "</div>"
      ],
      "text/plain": [
       "             Survived  Pclass  \\\n",
       "PassengerId                     \n",
       "1                   0       3   \n",
       "2                   1       1   \n",
       "3                   1       3   \n",
       "4                   1       1   \n",
       "5                   0       3   \n",
       "\n",
       "                                                          Name  Sex   Age  \\\n",
       "PassengerId                                                                 \n",
       "1                                      Braund, Mr. Owen Harris    1  22.0   \n",
       "2            Cumings, Mrs. John Bradley (Florence Briggs Th...    0  38.0   \n",
       "3                                       Heikkinen, Miss. Laina    0  26.0   \n",
       "4                 Futrelle, Mrs. Jacques Heath (Lily May Peel)    0  35.0   \n",
       "5                                     Allen, Mr. William Henry    1  35.0   \n",
       "\n",
       "             SibSp  Parch            Ticket     Fare  Embarked  Deck   Room  \n",
       "PassengerId                                                                  \n",
       "1                1      0         A/5 21171   7.2500         2     1   96.0  \n",
       "2                1      0          PC 17599  71.2833         0     2   85.0  \n",
       "3                0      0  STON/O2. 3101282   7.9250         2     1   96.0  \n",
       "4                1      0            113803  53.1000         2     2  123.0  \n",
       "5                0      0            373450   8.0500         2     1   96.0  "
      ]
     },
     "execution_count": 24,
     "metadata": {},
     "output_type": "execute_result"
    }
   ],
   "source": [
    "df.head()"
   ]
  },
  {
   "cell_type": "markdown",
   "id": "22dce880",
   "metadata": {
    "papermill": {
     "duration": 0.008445,
     "end_time": "2025-04-24T13:08:04.235842",
     "exception": false,
     "start_time": "2025-04-24T13:08:04.227397",
     "status": "completed"
    },
    "tags": []
   },
   "source": [
    "# Normalizing and standardizing the Numerical features:"
   ]
  },
  {
   "cell_type": "markdown",
   "id": "99a14066",
   "metadata": {
    "papermill": {
     "duration": 0.007921,
     "end_time": "2025-04-24T13:08:04.252676",
     "exception": false,
     "start_time": "2025-04-24T13:08:04.244755",
     "status": "completed"
    },
    "tags": []
   },
   "source": [
    "### Applying the normalization technique on the Age and fare columns:"
   ]
  },
  {
   "cell_type": "code",
   "execution_count": 25,
   "id": "99016ca6",
   "metadata": {
    "execution": {
     "iopub.execute_input": "2025-04-24T13:08:04.270847Z",
     "iopub.status.busy": "2025-04-24T13:08:04.270531Z",
     "iopub.status.idle": "2025-04-24T13:08:04.275234Z",
     "shell.execute_reply": "2025-04-24T13:08:04.274213Z"
    },
    "papermill": {
     "duration": 0.016052,
     "end_time": "2025-04-24T13:08:04.276857",
     "exception": false,
     "start_time": "2025-04-24T13:08:04.260805",
     "status": "completed"
    },
    "tags": []
   },
   "outputs": [],
   "source": [
    "from sklearn.preprocessing import MinMaxScaler\n",
    "scaler = MinMaxScaler()"
   ]
  },
  {
   "cell_type": "code",
   "execution_count": 26,
   "id": "84d55c3c",
   "metadata": {
    "execution": {
     "iopub.execute_input": "2025-04-24T13:08:04.295011Z",
     "iopub.status.busy": "2025-04-24T13:08:04.294642Z",
     "iopub.status.idle": "2025-04-24T13:08:04.303274Z",
     "shell.execute_reply": "2025-04-24T13:08:04.302253Z"
    },
    "papermill": {
     "duration": 0.019372,
     "end_time": "2025-04-24T13:08:04.304708",
     "exception": false,
     "start_time": "2025-04-24T13:08:04.285336",
     "status": "completed"
    },
    "tags": []
   },
   "outputs": [],
   "source": [
    "df['Normalized_Age']=scaler.fit_transform(df[['Age']])"
   ]
  },
  {
   "cell_type": "code",
   "execution_count": 27,
   "id": "ba9781e1",
   "metadata": {
    "execution": {
     "iopub.execute_input": "2025-04-24T13:08:04.322787Z",
     "iopub.status.busy": "2025-04-24T13:08:04.322499Z",
     "iopub.status.idle": "2025-04-24T13:08:04.331789Z",
     "shell.execute_reply": "2025-04-24T13:08:04.330793Z"
    },
    "papermill": {
     "duration": 0.020336,
     "end_time": "2025-04-24T13:08:04.333500",
     "exception": false,
     "start_time": "2025-04-24T13:08:04.313164",
     "status": "completed"
    },
    "tags": []
   },
   "outputs": [],
   "source": [
    "\n",
    "df['Normalized_Fare'] = scaler.fit_transform(df[['Fare']])"
   ]
  },
  {
   "cell_type": "code",
   "execution_count": 28,
   "id": "d955bfc0",
   "metadata": {
    "execution": {
     "iopub.execute_input": "2025-04-24T13:08:04.351212Z",
     "iopub.status.busy": "2025-04-24T13:08:04.350893Z",
     "iopub.status.idle": "2025-04-24T13:08:04.366227Z",
     "shell.execute_reply": "2025-04-24T13:08:04.365294Z"
    },
    "papermill": {
     "duration": 0.026062,
     "end_time": "2025-04-24T13:08:04.368009",
     "exception": false,
     "start_time": "2025-04-24T13:08:04.341947",
     "status": "completed"
    },
    "tags": []
   },
   "outputs": [
    {
     "data": {
      "text/html": [
       "<div>\n",
       "<style scoped>\n",
       "    .dataframe tbody tr th:only-of-type {\n",
       "        vertical-align: middle;\n",
       "    }\n",
       "\n",
       "    .dataframe tbody tr th {\n",
       "        vertical-align: top;\n",
       "    }\n",
       "\n",
       "    .dataframe thead th {\n",
       "        text-align: right;\n",
       "    }\n",
       "</style>\n",
       "<table border=\"1\" class=\"dataframe\">\n",
       "  <thead>\n",
       "    <tr style=\"text-align: right;\">\n",
       "      <th></th>\n",
       "      <th>Survived</th>\n",
       "      <th>Pclass</th>\n",
       "      <th>Name</th>\n",
       "      <th>Sex</th>\n",
       "      <th>Age</th>\n",
       "      <th>SibSp</th>\n",
       "      <th>Parch</th>\n",
       "      <th>Ticket</th>\n",
       "      <th>Fare</th>\n",
       "      <th>Embarked</th>\n",
       "      <th>Deck</th>\n",
       "      <th>Room</th>\n",
       "      <th>Normalized_Age</th>\n",
       "      <th>Normalized_Fare</th>\n",
       "    </tr>\n",
       "    <tr>\n",
       "      <th>PassengerId</th>\n",
       "      <th></th>\n",
       "      <th></th>\n",
       "      <th></th>\n",
       "      <th></th>\n",
       "      <th></th>\n",
       "      <th></th>\n",
       "      <th></th>\n",
       "      <th></th>\n",
       "      <th></th>\n",
       "      <th></th>\n",
       "      <th></th>\n",
       "      <th></th>\n",
       "      <th></th>\n",
       "      <th></th>\n",
       "    </tr>\n",
       "  </thead>\n",
       "  <tbody>\n",
       "    <tr>\n",
       "      <th>1</th>\n",
       "      <td>0</td>\n",
       "      <td>3</td>\n",
       "      <td>Braund, Mr. Owen Harris</td>\n",
       "      <td>1</td>\n",
       "      <td>22.0</td>\n",
       "      <td>1</td>\n",
       "      <td>0</td>\n",
       "      <td>A/5 21171</td>\n",
       "      <td>7.2500</td>\n",
       "      <td>2</td>\n",
       "      <td>1</td>\n",
       "      <td>96.0</td>\n",
       "      <td>0.271174</td>\n",
       "      <td>0.014151</td>\n",
       "    </tr>\n",
       "    <tr>\n",
       "      <th>2</th>\n",
       "      <td>1</td>\n",
       "      <td>1</td>\n",
       "      <td>Cumings, Mrs. John Bradley (Florence Briggs Th...</td>\n",
       "      <td>0</td>\n",
       "      <td>38.0</td>\n",
       "      <td>1</td>\n",
       "      <td>0</td>\n",
       "      <td>PC 17599</td>\n",
       "      <td>71.2833</td>\n",
       "      <td>0</td>\n",
       "      <td>2</td>\n",
       "      <td>85.0</td>\n",
       "      <td>0.472229</td>\n",
       "      <td>0.139136</td>\n",
       "    </tr>\n",
       "    <tr>\n",
       "      <th>3</th>\n",
       "      <td>1</td>\n",
       "      <td>3</td>\n",
       "      <td>Heikkinen, Miss. Laina</td>\n",
       "      <td>0</td>\n",
       "      <td>26.0</td>\n",
       "      <td>0</td>\n",
       "      <td>0</td>\n",
       "      <td>STON/O2. 3101282</td>\n",
       "      <td>7.9250</td>\n",
       "      <td>2</td>\n",
       "      <td>1</td>\n",
       "      <td>96.0</td>\n",
       "      <td>0.321438</td>\n",
       "      <td>0.015469</td>\n",
       "    </tr>\n",
       "    <tr>\n",
       "      <th>4</th>\n",
       "      <td>1</td>\n",
       "      <td>1</td>\n",
       "      <td>Futrelle, Mrs. Jacques Heath (Lily May Peel)</td>\n",
       "      <td>0</td>\n",
       "      <td>35.0</td>\n",
       "      <td>1</td>\n",
       "      <td>0</td>\n",
       "      <td>113803</td>\n",
       "      <td>53.1000</td>\n",
       "      <td>2</td>\n",
       "      <td>2</td>\n",
       "      <td>123.0</td>\n",
       "      <td>0.434531</td>\n",
       "      <td>0.103644</td>\n",
       "    </tr>\n",
       "    <tr>\n",
       "      <th>5</th>\n",
       "      <td>0</td>\n",
       "      <td>3</td>\n",
       "      <td>Allen, Mr. William Henry</td>\n",
       "      <td>1</td>\n",
       "      <td>35.0</td>\n",
       "      <td>0</td>\n",
       "      <td>0</td>\n",
       "      <td>373450</td>\n",
       "      <td>8.0500</td>\n",
       "      <td>2</td>\n",
       "      <td>1</td>\n",
       "      <td>96.0</td>\n",
       "      <td>0.434531</td>\n",
       "      <td>0.015713</td>\n",
       "    </tr>\n",
       "  </tbody>\n",
       "</table>\n",
       "</div>"
      ],
      "text/plain": [
       "             Survived  Pclass  \\\n",
       "PassengerId                     \n",
       "1                   0       3   \n",
       "2                   1       1   \n",
       "3                   1       3   \n",
       "4                   1       1   \n",
       "5                   0       3   \n",
       "\n",
       "                                                          Name  Sex   Age  \\\n",
       "PassengerId                                                                 \n",
       "1                                      Braund, Mr. Owen Harris    1  22.0   \n",
       "2            Cumings, Mrs. John Bradley (Florence Briggs Th...    0  38.0   \n",
       "3                                       Heikkinen, Miss. Laina    0  26.0   \n",
       "4                 Futrelle, Mrs. Jacques Heath (Lily May Peel)    0  35.0   \n",
       "5                                     Allen, Mr. William Henry    1  35.0   \n",
       "\n",
       "             SibSp  Parch            Ticket     Fare  Embarked  Deck   Room  \\\n",
       "PassengerId                                                                   \n",
       "1                1      0         A/5 21171   7.2500         2     1   96.0   \n",
       "2                1      0          PC 17599  71.2833         0     2   85.0   \n",
       "3                0      0  STON/O2. 3101282   7.9250         2     1   96.0   \n",
       "4                1      0            113803  53.1000         2     2  123.0   \n",
       "5                0      0            373450   8.0500         2     1   96.0   \n",
       "\n",
       "             Normalized_Age  Normalized_Fare  \n",
       "PassengerId                                   \n",
       "1                  0.271174         0.014151  \n",
       "2                  0.472229         0.139136  \n",
       "3                  0.321438         0.015469  \n",
       "4                  0.434531         0.103644  \n",
       "5                  0.434531         0.015713  "
      ]
     },
     "execution_count": 28,
     "metadata": {},
     "output_type": "execute_result"
    }
   ],
   "source": [
    "df.head()"
   ]
  },
  {
   "cell_type": "markdown",
   "id": "02f3606a",
   "metadata": {
    "papermill": {
     "duration": 0.008077,
     "end_time": "2025-04-24T13:08:04.384672",
     "exception": false,
     "start_time": "2025-04-24T13:08:04.376595",
     "status": "completed"
    },
    "tags": []
   },
   "source": [
    "# visualizing the Outliers using boxplot and remove them:"
   ]
  },
  {
   "cell_type": "code",
   "execution_count": 29,
   "id": "22373b6e",
   "metadata": {
    "execution": {
     "iopub.execute_input": "2025-04-24T13:08:04.402875Z",
     "iopub.status.busy": "2025-04-24T13:08:04.402530Z",
     "iopub.status.idle": "2025-04-24T13:08:04.839438Z",
     "shell.execute_reply": "2025-04-24T13:08:04.838251Z"
    },
    "papermill": {
     "duration": 0.448052,
     "end_time": "2025-04-24T13:08:04.841329",
     "exception": false,
     "start_time": "2025-04-24T13:08:04.393277",
     "status": "completed"
    },
    "tags": []
   },
   "outputs": [
    {
     "data": {
      "image/png": "[encoded data removed]",
      "text/plain": [
       "<Figure size 800x400 with 1 Axes>"
      ]
     },
     "metadata": {},
     "output_type": "display_data"
    },
    {
     "data": {
      "image/png": "[encoded data removed]",
      "text/plain": [
       "<Figure size 800x400 with 1 Axes>"
      ]
     },
     "metadata": {},
     "output_type": "display_data"
    },
    {
     "data": {
      "image/png": "[encoded data removed]",
      "text/plain": [
       "<Figure size 800x400 with 1 Axes>"
      ]
     },
     "metadata": {},
     "output_type": "display_data"
    }
   ],
   "source": [
    "# Visualizing outliers using boxplots\n",
    "numerical_columns = ['Age', 'Fare', 'Room']  # Specify numerical columns to check for outliers\n",
    "for column in numerical_columns:\n",
    "    plt.figure(figsize=(8, 4))\n",
    "    sns.boxplot(x=df[column])\n",
    "    plt.title(f'Boxplot of {column}')\n",
    "    plt.show()"
   ]
  },
  {
   "cell_type": "code",
   "execution_count": 30,
   "id": "2c8e1dde",
   "metadata": {
    "execution": {
     "iopub.execute_input": "2025-04-24T13:08:04.862153Z",
     "iopub.status.busy": "2025-04-24T13:08:04.861695Z",
     "iopub.status.idle": "2025-04-24T13:08:04.876353Z",
     "shell.execute_reply": "2025-04-24T13:08:04.875141Z"
    },
    "papermill": {
     "duration": 0.027388,
     "end_time": "2025-04-24T13:08:04.878172",
     "exception": false,
     "start_time": "2025-04-24T13:08:04.850784",
     "status": "completed"
    },
    "tags": []
   },
   "outputs": [
    {
     "name": "stderr",
     "output_type": "stream",
     "text": [
      "/usr/local/lib/python3.11/dist-packages/pandas/core/computation/expressions.py:73: RuntimeWarning: invalid value encountered in less\n",
      "  return op(a, b)\n",
      "/usr/local/lib/python3.11/dist-packages/pandas/core/computation/expressions.py:73: RuntimeWarning: invalid value encountered in greater\n",
      "  return op(a, b)\n"
     ]
    }
   ],
   "source": [
    "# Handling outliers by capping them\n",
    "for column in numerical_columns:\n",
    "    Q1 = df[column].quantile(0.25)\n",
    "    Q3 = df[column].quantile(0.75)\n",
    "    IQR = Q3 - Q1\n",
    "    lower_bound = Q1 - 1.5 * IQR\n",
    "    upper_bound = Q3 + 1.5 * IQR\n",
    "    df[column] = np.where(df[column] < lower_bound, lower_bound, df[column])\n",
    "    df[column] = np.where(df[column] > upper_bound, upper_bound, df[column])"
   ]
  },
  {
   "cell_type": "code",
   "execution_count": 31,
   "id": "5f83eca1",
   "metadata": {
    "execution": {
     "iopub.execute_input": "2025-04-24T13:08:04.898255Z",
     "iopub.status.busy": "2025-04-24T13:08:04.897903Z",
     "iopub.status.idle": "2025-04-24T13:08:05.227633Z",
     "shell.execute_reply": "2025-04-24T13:08:05.226507Z"
    },
    "papermill": {
     "duration": 0.341841,
     "end_time": "2025-04-24T13:08:05.229310",
     "exception": false,
     "start_time": "2025-04-24T13:08:04.887469",
     "status": "completed"
    },
    "tags": []
   },
   "outputs": [
    {
     "data": {
      "image/png": "[encoded data removed]",
      "text/plain": [
       "<Figure size 800x400 with 1 Axes>"
      ]
     },
     "metadata": {},
     "output_type": "display_data"
    },
    {
     "data": {
      "image/png": "[encoded data removed]",
      "text/plain": [
       "<Figure size 800x400 with 1 Axes>"
      ]
     },
     "metadata": {},
     "output_type": "display_data"
    },
    {
     "data": {
      "image/png": "[encoded data removed]",
      "text/plain": [
       "<Figure size 800x400 with 1 Axes>"
      ]
     },
     "metadata": {},
     "output_type": "display_data"
    }
   ],
   "source": [
    "\n",
    "numerical_columns = ['Age', 'Fare', 'Room']  # Specify numerical columns to check for outliers\n",
    "for column in numerical_columns:\n",
    "    plt.figure(figsize=(8, 4))\n",
    "    sns.boxplot(x=df[column])\n",
    "    plt.title(f'Boxplot of {column}')\n",
    "    plt.show()"
   ]
  },
  {
   "cell_type": "markdown",
   "id": "5c89adeb",
   "metadata": {
    "papermill": {
     "duration": 0.010147,
     "end_time": "2025-04-24T13:08:05.249583",
     "exception": false,
     "start_time": "2025-04-24T13:08:05.239436",
     "status": "completed"
    },
    "tags": []
   },
   "source": [
    "-> As we can see there is no outlier in this numerical columns:"
   ]
  },
  {
   "cell_type": "code",
   "execution_count": null,
   "id": "bd687a11",
   "metadata": {
    "papermill": {
     "duration": 0.010426,
     "end_time": "2025-04-24T13:08:05.269751",
     "exception": false,
     "start_time": "2025-04-24T13:08:05.259325",
     "status": "completed"
    },
    "tags": []
   },
   "outputs": [],
   "source": []
  }
 ],
 "metadata": {
  "kaggle": {
   "accelerator": "none",
   "dataSources": [
    {
     "datasetId": 1818188,
     "sourceId": 2965537,
     "sourceType": "datasetVersion"
    }
   ],
   "dockerImageVersionId": 31012,
   "isGpuEnabled": false,
   "isInternetEnabled": true,
   "language": "python",
   "sourceType": "notebook"
  },
  "kernelspec": {
   "display_name": "Python 3",
   "language": "python",
   "name": "python3"
  },
  "language_info": {
   "codemirror_mode": {
    "name": "ipython",
    "version": 3
   },
   "file_extension": ".py",
   "mimetype": "text/x-python",
   "name": "python",
   "nbconvert_exporter": "python",
   "pygments_lexer": "ipython3",
   "version": "3.11.11"
  },
  "papermill": {
   "default_parameters": {},
   "duration": 12.53216,
   "end_time": "2025-04-24T13:08:06.001015",
   "environment_variables": {},
   "exception": null,
   "input_path": "__notebook__.ipynb",
   "output_path": "__notebook__.ipynb",
   "parameters": {},
   "start_time": "2025-04-24T13:07:53.468855",
   "version": "2.6.0"
  }
 },
 "nbformat": 4,
 "nbformat_minor": 5
}
